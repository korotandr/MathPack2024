{
 "cells": [
  {
   "cell_type": "code",
   "execution_count": 26,
   "id": "a308846a",
   "metadata": {},
   "outputs": [],
   "source": [
    "import json"
   ]
  },
  {
   "cell_type": "code",
   "execution_count": 27,
   "id": "7b80e170",
   "metadata": {},
   "outputs": [
    {
     "data": {
      "text/plain": [
       "'{\"name\": \"Sacha\", \"text\": \"wdfwgr\", \"time\": 34567389}'"
      ]
     },
     "execution_count": 27,
     "metadata": {},
     "output_type": "execute_result"
    }
   ],
   "source": [
    "message = {\n",
    "    'name': 'Sacha',\n",
    "    'text': 'wdfwgr',\n",
    "    'time': 34567389\n",
    "}\n",
    "s = json.dumps(message)\n",
    "s"
   ]
  },
  {
   "cell_type": "code",
   "execution_count": 28,
   "id": "bac4dfa4",
   "metadata": {},
   "outputs": [
    {
     "data": {
      "text/plain": [
       "{'name': 'Sacha', 'text': 'wdfwgr', 'time': 34567389}"
      ]
     },
     "execution_count": 28,
     "metadata": {},
     "output_type": "execute_result"
    }
   ],
   "source": [
    "json.loads(s)"
   ]
  },
  {
   "cell_type": "code",
   "execution_count": 21,
   "id": "e4df6f77",
   "metadata": {},
   "outputs": [],
   "source": [
    "import requests\n",
    "url = 'https://api.openweathermap.org/data/2.5/weather'\n",
    "params = {'lat':40.7143, 'lon':-74.006, 'appid': '8537d9ef6386cb97156fd47d832f479c', 'units': 'metric'}\n",
    "response = requests.get(url, params=params)"
   ]
  },
  {
   "cell_type": "code",
   "execution_count": 22,
   "id": "efeefa2f",
   "metadata": {},
   "outputs": [
    {
     "data": {
      "text/plain": [
       "200"
      ]
     },
     "execution_count": 22,
     "metadata": {},
     "output_type": "execute_result"
    }
   ],
   "source": [
    "response.status_code"
   ]
  },
  {
   "cell_type": "code",
   "execution_count": 23,
   "id": "f797ca8d",
   "metadata": {},
   "outputs": [
    {
     "data": {
      "text/plain": [
       "'{\"coord\":{\"lon\":-74.006,\"lat\":40.7143},\"weather\":[{\"id\":803,\"main\":\"Clouds\",\"description\":\"broken clouds\",\"icon\":\"04n\"}],\"base\":\"stations\",\"main\":{\"temp\":5.1,\"feels_like\":2.22,\"temp_min\":3.95,\"temp_max\":5.97,\"pressure\":1026,\"humidity\":77},\"visibility\":10000,\"wind\":{\"speed\":3.6,\"deg\":140},\"clouds\":{\"all\":75},\"dt\":1709971990,\"sys\":{\"type\":2,\"id\":2008101,\"country\":\"US\",\"sunrise\":1709983007,\"sunset\":1710024977},\"timezone\":-18000,\"id\":5128581,\"name\":\"New York\",\"cod\":200}'"
      ]
     },
     "execution_count": 23,
     "metadata": {},
     "output_type": "execute_result"
    }
   ],
   "source": [
    "response.text"
   ]
  },
  {
   "cell_type": "code",
   "execution_count": 24,
   "id": "bec3b7eb",
   "metadata": {},
   "outputs": [
    {
     "data": {
      "text/plain": [
       "{'coord': {'lon': -74.006, 'lat': 40.7143},\n",
       " 'weather': [{'id': 803,\n",
       "   'main': 'Clouds',\n",
       "   'description': 'broken clouds',\n",
       "   'icon': '04n'}],\n",
       " 'base': 'stations',\n",
       " 'main': {'temp': 5.1,\n",
       "  'feels_like': 2.22,\n",
       "  'temp_min': 3.95,\n",
       "  'temp_max': 5.97,\n",
       "  'pressure': 1026,\n",
       "  'humidity': 77},\n",
       " 'visibility': 10000,\n",
       " 'wind': {'speed': 3.6, 'deg': 140},\n",
       " 'clouds': {'all': 75},\n",
       " 'dt': 1709971990,\n",
       " 'sys': {'type': 2,\n",
       "  'id': 2008101,\n",
       "  'country': 'US',\n",
       "  'sunrise': 1709983007,\n",
       "  'sunset': 1710024977},\n",
       " 'timezone': -18000,\n",
       " 'id': 5128581,\n",
       " 'name': 'New York',\n",
       " 'cod': 200}"
      ]
     },
     "execution_count": 24,
     "metadata": {},
     "output_type": "execute_result"
    }
   ],
   "source": [
    "#json.loads(response.text)\n",
    "data = response.json()\n",
    "data"
   ]
  },
  {
   "cell_type": "code",
   "execution_count": 25,
   "id": "8ae22fa2",
   "metadata": {},
   "outputs": [
    {
     "data": {
      "text/plain": [
       "(5.1, 'New York')"
      ]
     },
     "execution_count": 25,
     "metadata": {},
     "output_type": "execute_result"
    }
   ],
   "source": [
    "data['main']['temp'], data['name']"
   ]
  },
  {
   "cell_type": "code",
   "execution_count": 13,
   "id": "062d1e76",
   "metadata": {},
   "outputs": [],
   "source": [
    "url = 'https://api.openweathermap.org/data/2.5/weather?lat=55,7522&lon=37,6166&appid=8537d9ef6386cb97156fd47d832f479c&units=metric'\n",
    "response = requests.get(url)"
   ]
  },
  {
   "cell_type": "code",
   "execution_count": 14,
   "id": "0d0c7ae9",
   "metadata": {},
   "outputs": [
    {
     "data": {
      "text/plain": [
       "200"
      ]
     },
     "execution_count": 14,
     "metadata": {},
     "output_type": "execute_result"
    }
   ],
   "source": [
    "response.status_code"
   ]
  },
  {
   "cell_type": "code",
   "execution_count": 15,
   "id": "50d0d1e5",
   "metadata": {},
   "outputs": [
    {
     "data": {
      "text/plain": [
       "{'coord': {'lon': 37.6171, 'lat': 55.7483},\n",
       " 'weather': [{'id': 804,\n",
       "   'main': 'Clouds',\n",
       "   'description': 'overcast clouds',\n",
       "   'icon': '04d'}],\n",
       " 'base': 'stations',\n",
       " 'main': {'temp': -4.12,\n",
       "  'feels_like': -9.31,\n",
       "  'temp_min': -4.82,\n",
       "  'temp_max': -3.66,\n",
       "  'pressure': 1019,\n",
       "  'humidity': 88,\n",
       "  'sea_level': 1019,\n",
       "  'grnd_level': 1001},\n",
       " 'visibility': 10000,\n",
       " 'wind': {'speed': 3.96, 'deg': 355, 'gust': 6.1},\n",
       " 'clouds': {'all': 93},\n",
       " 'dt': 1709971922,\n",
       " 'sys': {'type': 1,\n",
       "  'id': 9029,\n",
       "  'country': 'RU',\n",
       "  'sunrise': 1709956796,\n",
       "  'sunset': 1709997619},\n",
       " 'timezone': 10800,\n",
       " 'id': 524901,\n",
       " 'name': 'Moscow',\n",
       " 'cod': 200}"
      ]
     },
     "execution_count": 15,
     "metadata": {},
     "output_type": "execute_result"
    }
   ],
   "source": [
    "response.json()"
   ]
  },
  {
   "cell_type": "code",
   "execution_count": 31,
   "id": "7419b0ab",
   "metadata": {},
   "outputs": [],
   "source": [
    "import time"
   ]
  },
  {
   "cell_type": "code",
   "execution_count": 32,
   "id": "ab12334d",
   "metadata": {},
   "outputs": [
    {
     "data": {
      "text/plain": [
       "1709974006.0536888"
      ]
     },
     "execution_count": 32,
     "metadata": {},
     "output_type": "execute_result"
    }
   ],
   "source": [
    "time.time()"
   ]
  },
  {
   "cell_type": "code",
   "execution_count": 33,
   "id": "b6206831",
   "metadata": {},
   "outputs": [
    {
     "name": "stdout",
     "output_type": "stream",
     "text": [
      "2024-03-09 11:48:09\n"
     ]
    }
   ],
   "source": [
    "from datetime import datetime\n",
    "t = time.time()\n",
    "dt = datetime.fromtimestamp(t)\n",
    "print(dt.strftime('%Y-%m-%d %H:%M:%S'))"
   ]
  },
  {
   "cell_type": "code",
   "execution_count": 23,
   "id": "5efd0893",
   "metadata": {},
   "outputs": [
    {
     "data": {
      "text/plain": [
       "datetime.datetime(2024, 2, 22, 10, 51, 6, 553941)"
      ]
     },
     "execution_count": 23,
     "metadata": {},
     "output_type": "execute_result"
    }
   ],
   "source": [
    "dt"
   ]
  }
 ],
 "metadata": {
  "kernelspec": {
   "display_name": "Python 3 (ipykernel)",
   "language": "python",
   "name": "python3"
  },
  "language_info": {
   "codemirror_mode": {
    "name": "ipython",
    "version": 3
   },
   "file_extension": ".py",
   "mimetype": "text/x-python",
   "name": "python",
   "nbconvert_exporter": "python",
   "pygments_lexer": "ipython3",
   "version": "3.10.11"
  }
 },
 "nbformat": 4,
 "nbformat_minor": 5
}
