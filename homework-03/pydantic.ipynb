{
 "cells": [
  {
   "cell_type": "code",
   "execution_count": 4,
   "id": "21dd8b2e",
   "metadata": {},
   "outputs": [],
   "source": [
    "from pydantic import BaseModel\n",
    "\n",
    "class Message(BaseModel):\n",
    "    name: str\n",
    "    text: str"
   ]
  },
  {
   "cell_type": "code",
   "execution_count": 7,
   "id": "1f801afd",
   "metadata": {},
   "outputs": [
    {
     "name": "stdout",
     "output_type": "stream",
     "text": [
      "[{'type': 'string_type', 'loc': ('name',), 'msg': 'Input should be a valid string', 'input': 546378, 'url': 'https://errors.pydantic.dev/2.5/v/string_type'}]\n"
     ]
    }
   ],
   "source": [
    "message = {\n",
    "    'name': 546378,#'Anya', \n",
    "    'text':'fgdhjksl'\n",
    "          }\n",
    "try:\n",
    "    Message(**message)\n",
    "except ValueError as e:\n",
    "    return abort(400)\n",
    "\n",
    "\n",
    "    "
   ]
  },
  {
   "cell_type": "code",
   "execution_count": null,
   "id": "5fc01519",
   "metadata": {},
   "outputs": [],
   "source": []
  }
 ],
 "metadata": {
  "kernelspec": {
   "display_name": "Python 3 (ipykernel)",
   "language": "python",
   "name": "python3"
  },
  "language_info": {
   "codemirror_mode": {
    "name": "ipython",
    "version": 3
   },
   "file_extension": ".py",
   "mimetype": "text/x-python",
   "name": "python",
   "nbconvert_exporter": "python",
   "pygments_lexer": "ipython3",
   "version": "3.10.11"
  }
 },
 "nbformat": 4,
 "nbformat_minor": 5
}
